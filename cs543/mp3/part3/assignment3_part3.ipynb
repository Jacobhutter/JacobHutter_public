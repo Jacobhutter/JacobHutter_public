{
 "cells": [
  {
   "cell_type": "markdown",
   "metadata": {},
   "source": [
    "# Single-View Geometry (Python)\n",
    "\n",
    "## Usage\n",
    "This code snippet provides an overall code structure and some interactive plot interfaces for the *Single-View Geometry* section of Assignment 3. In [main function](#Main-function), we outline the required functionalities step by step. Some of the functions which involves interactive plots are already provided, but [the rest](#Your-implementation) are left for you to implement.\n",
    "\n",
    "## Package installation\n",
    "- You will need [GUI backend](https://matplotlib.org/faq/usage_faq.html#what-is-a-backend) to enable interactive plots in `matplotlib`.\n",
    "- In this code, we use `tkinter` package. Installation instruction can be found [here](https://anaconda.org/anaconda/tk)."
   ]
  },
  {
   "cell_type": "markdown",
   "metadata": {},
   "source": [
    "# Common imports"
   ]
  },
  {
   "cell_type": "code",
   "execution_count": 1,
   "metadata": {},
   "outputs": [],
   "source": [
    "% matplotlib tk\n",
    "import matplotlib.pyplot as plt\n",
    "import numpy as np\n",
    "import scipy\n",
    "import math\n",
    "from scipy import linalg, matrix\n",
    "from PIL import Image"
   ]
  },
  {
   "cell_type": "markdown",
   "metadata": {},
   "source": [
    "# Provided functions"
   ]
  },
  {
   "cell_type": "code",
   "execution_count": 2,
   "metadata": {},
   "outputs": [],
   "source": [
    "def get_input_lines(im, min_lines=3):\n",
    "    \"\"\"\n",
    "    Allows user to input line segments; computes centers and directions.\n",
    "    Inputs:\n",
    "        im: np.ndarray of shape (height, width, 3)\n",
    "        min_lines: minimum number of lines required\n",
    "    Returns:\n",
    "        n: number of lines from input\n",
    "        lines: np.ndarray of shape (3, n)\n",
    "            where each column denotes the parameters of the line equation\n",
    "        centers: np.ndarray of shape (3, n)\n",
    "            where each column denotes the homogeneous coordinates of the centers\n",
    "    \"\"\"\n",
    "    n = 0\n",
    "    lines = np.zeros((3, 0))\n",
    "    centers = np.zeros((3, 0))\n",
    "\n",
    "    plt.figure()\n",
    "    plt.imshow(im)\n",
    "    print('Set at least %d lines to compute vanishing point' % min_lines)\n",
    "    while True:\n",
    "        print('Click the two endpoints, use the right key to undo, and use the middle key to stop input')\n",
    "        clicked = plt.ginput(2, timeout=0, show_clicks=True)\n",
    "        if not clicked or len(clicked) < 2:\n",
    "            if n < min_lines:\n",
    "                print('Need at least %d lines, you have %d now' % (min_lines, n))\n",
    "                continue\n",
    "            else:\n",
    "                # Stop getting lines if number of lines is enough\n",
    "                break\n",
    "\n",
    "        # Unpack user inputs and save as homogeneous coordinates\n",
    "        pt1 = np.array([clicked[0][0], clicked[0][1], 1])\n",
    "        pt2 = np.array([clicked[1][0], clicked[1][1], 1])\n",
    "        # Get line equation using cross product\n",
    "        # Line equation: line[0] * x + line[1] * y + line[2] = 0\n",
    "        line = np.cross(pt1, pt2)\n",
    "        lines = np.append(lines, line.reshape((3, 1)), axis=1)\n",
    "        # Get center coordinate of the line segment\n",
    "        center = (pt1 + pt2) / 2\n",
    "        centers = np.append(centers, center.reshape((3, 1)), axis=1)\n",
    "\n",
    "        # Plot line segment\n",
    "        plt.plot([pt1[0], pt2[0]], [pt1[1], pt2[1]], color='b')\n",
    "\n",
    "        n += 1\n",
    "\n",
    "    return n, lines, centers"
   ]
  },
  {
   "cell_type": "code",
   "execution_count": 3,
   "metadata": {},
   "outputs": [],
   "source": [
    "def get_line_2(pt1, pt2):\n",
    "    points = [(pt1[0], pt1[1]),(pt2[0], pt2[1])]\n",
    "    x_coords, y_coords = zip(*points)\n",
    "    A = np.vstack([x_coords ,np.ones(len(x_coords))]).T\n",
    "    m, c = np.linalg.lstsq(A, y_coords, rcond=-1)[0]\n",
    "    return m, c"
   ]
  },
  {
   "cell_type": "code",
   "execution_count": 4,
   "metadata": {},
   "outputs": [],
   "source": [
    "def get_line(pt1, pt2, pt3):\n",
    "    points = [(pt1[0], pt1[1]),(pt2[0], pt2[1]), (pt3[0], pt3[1])]\n",
    "    x_coords, y_coords = zip(*points)\n",
    "    A = np.vstack([x_coords ,np.ones(len(x_coords))]).T\n",
    "    m, c = np.linalg.lstsq(A, y_coords, rcond=-1)[0]\n",
    "    return m, c"
   ]
  },
  {
   "cell_type": "code",
   "execution_count": 5,
   "metadata": {},
   "outputs": [],
   "source": [
    "def plot_lines_and_vp(im, lines, vp):\n",
    "    \"\"\"\n",
    "    Plots user-input lines and the calculated vanishing point.\n",
    "    Inputs:\n",
    "        im: np.ndarray of shape (height, width, 3)\n",
    "        lines: np.ndarray of shape (3, n)\n",
    "            where each column denotes the parameters of the line equation\n",
    "        vp: np.ndarray of shape (3, )\n",
    "    \"\"\"\n",
    "    bx1 = min(1, vp[0] / vp[2]) - 10\n",
    "    bx2 = max(im.shape[1], vp[0] / vp[2]) + 10\n",
    "    by1 = min(1, vp[1] / vp[2]) - 10\n",
    "    by2 = max(im.shape[0], vp[1] / vp[2]) + 10\n",
    "\n",
    "    plt.figure()\n",
    "    plt.imshow(im)\n",
    "    pixel_lines = []\n",
    "    for i in range(lines.shape[1]):\n",
    "        if lines[0, i] < lines[1, i]:\n",
    "            pt1 = np.cross(np.array([1, 0, -bx1]), lines[:, i])\n",
    "            pt2 = np.cross(np.array([1, 0, -bx2]), lines[:, i])\n",
    "        else:\n",
    "            pt1 = np.cross(np.array([0, 1, -by1]), lines[:, i])\n",
    "            pt2 = np.cross(np.array([0, 1, -by2]), lines[:, i])\n",
    "        pt1 = pt1 / pt1[2]\n",
    "        pt2 = pt2 / pt2[2]\n",
    "        m, c = get_line_2(pt1, pt2)\n",
    "        pixel_lines.append([-m, 1, c])\n",
    "        plt.plot([pt1[0], pt2[0]], [pt1[1], pt2[1]], 'g')\n",
    "    l1 = pixel_lines[0]\n",
    "    l2 = pixel_lines[1]\n",
    "    vp = intersection(l1, l2)\n",
    "    plt.plot(vp[0] , vp[1] , 'ro')\n",
    "    plt.show()\n",
    "    return np.array([vp[0], vp[1], 1])"
   ]
  },
  {
   "cell_type": "code",
   "execution_count": 6,
   "metadata": {},
   "outputs": [],
   "source": [
    "def get_top_and_bottom_coordinates(im, obj):\n",
    "    \"\"\"\n",
    "    For a specific object, prompts user to record the top coordinate and the bottom coordinate in the image.\n",
    "    Inputs:\n",
    "        im: np.ndarray of shape (height, width, 3)\n",
    "        obj: string, object name\n",
    "    Returns:\n",
    "        coord: np.ndarray of shape (3, 2)\n",
    "            where coord[:, 0] is the homogeneous coordinate of the top of the object and coord[:, 1] is the homogeneous\n",
    "            coordinate of the bottom\n",
    "    \"\"\"\n",
    "    plt.figure()\n",
    "    plt.imshow(im)\n",
    "\n",
    "    print('Click on the top coordinate of %s' % obj)\n",
    "    clicked = plt.ginput(1, timeout=0, show_clicks=True)\n",
    "    x1, y1 = clicked[0]\n",
    "    # Uncomment this line to enable a vertical line to help align the two coordinates\n",
    "    # plt.plot([x1, x1], [0, im.shape[0]], 'b')\n",
    "    print('Click on the bottom coordinate of %s' % obj)\n",
    "    clicked = plt.ginput(1, timeout=0, show_clicks=True)\n",
    "    x2, y2 = clicked[0]\n",
    "\n",
    "    plt.plot([x1, x2], [y1, y2], 'b')\n",
    "\n",
    "    return np.array([[x1, x2], [y1, y2], [1, 1]])"
   ]
  },
  {
   "cell_type": "markdown",
   "metadata": {},
   "source": [
    "# Your implementation"
   ]
  },
  {
   "cell_type": "code",
   "execution_count": 7,
   "metadata": {},
   "outputs": [],
   "source": [
    "def intersection(L1, L2): # https://stackoverflow.com/questions/20677795/how-do-i-compute-the-intersection-point-of-two-lines-in-python\n",
    "    D  = L1[0] * L2[1] - L1[1] * L2[0]\n",
    "    Dx = L1[2] * L2[1] - L1[1] * L2[2]\n",
    "    Dy = L1[0] * L2[2] - L1[2] * L2[0]\n",
    "    if D != 0:\n",
    "        x = Dx / D\n",
    "        y = Dy / D\n",
    "        return np.array([x, y, 1])\n",
    "    else:\n",
    "        return [False]"
   ]
  },
  {
   "cell_type": "code",
   "execution_count": 8,
   "metadata": {},
   "outputs": [],
   "source": [
    "def get_vanishing_point(n, lines, centers):\n",
    "    \"\"\"\n",
    "    Solves for the vanishing point using the user-input lines.\n",
    "    given ax+by+c, change to y = a/bx + c/b\n",
    "    \"\"\"\n",
    "    line1 = np.reshape(lines[0], (3, ))\n",
    "    line2 = np.reshape(lines[1], (3, ))\n",
    "    line3 = np.reshape(lines[2], (3, ))\n",
    "    line1[2] = np.negative(line1[2])\n",
    "    line2[2] = np.negative(line2[2])\n",
    "    line3[2] = np.negative(line3[2])\n",
    "    i12 = intersection(line1, line2)\n",
    "    i13 = intersection(line1, line3)\n",
    "    i23 = intersection(line3, line3)\n",
    "    if i12.any != False:\n",
    "        return i12\n",
    "    elif i13.any != False:\n",
    "        return i13\n",
    "    else:\n",
    "        return i23"
   ]
  },
  {
   "cell_type": "code",
   "execution_count": 9,
   "metadata": {},
   "outputs": [],
   "source": [
    "def get_horizon_line(vpts, pixel_vpts):\n",
    "    \"\"\"\n",
    "    Calculates the ground horizon line.\n",
    "    \"\"\"\n",
    "    pt1 = vpts[0]\n",
    "    pt2 = vpts[1]\n",
    "    pt3 = vpts[2]\n",
    "    pixel_pt1 = pixel_vpts[0]\n",
    "    pixel_pt2 = pixel_vpts[1]\n",
    "    pixel_pt3 = pixel_vpts[2]\n",
    "    p_line = get_line(pixel_pt1, pixel_pt2, pixel_pt3)\n",
    "    line = get_line(pt1, pt2, pt3)\n",
    "    return line, p_line"
   ]
  },
  {
   "cell_type": "code",
   "execution_count": 10,
   "metadata": {},
   "outputs": [],
   "source": [
    "def plot_horizon_line(im, pt1, pt2):\n",
    "    plt.figure()\n",
    "    plt.imshow(im)\n",
    "    plt.plot([pt1[0], pt1[1]], [pt2[0], pt2[1]], 'r')\n",
    "    plt.show()\n",
    "    return"
   ]
  },
  {
   "cell_type": "code",
   "execution_count": 11,
   "metadata": {},
   "outputs": [],
   "source": [
    "def null(A, eps=1e-15):\n",
    "    u, s, vh = scipy.linalg.svd(A)\n",
    "    null_mask = (s <= eps)\n",
    "    null_space = scipy.compress(null_mask, vh, axis=0)\n",
    "    return scipy.transpose(null_space)"
   ]
  },
  {
   "cell_type": "code",
   "execution_count": 12,
   "metadata": {},
   "outputs": [],
   "source": [
    "def get_camera_parameters(vpts):\n",
    "    v1 = np.array([vpts[0][0], vpts[1][0], vpts[2][0]])\n",
    "    v2 = np.array([vpts[0][1], vpts[1][1], vpts[2][1]])\n",
    "    v3 = np.array([vpts[0][2], vpts[1][2], vpts[2][2]])\n",
    "    a = v1[0]\n",
    "    b = v1[1]\n",
    "    c = v1[2]\n",
    "    d = v2[0]\n",
    "    e = v2[1]\n",
    "    g = v2[2]\n",
    "    l = v3[0]\n",
    "    m = v3[1]\n",
    "    n = v3[2]\n",
    "    A = np.array([[math.pow(g, 2), -2*d*g, -2*e*g],[c*g,-(c*d)-(g*a),-(c*e)-(b*g)],[n*c, -(l*c)-(n*a), -(m*c)-(n*b)]])\n",
    "    b = np.array([-(math.pow(e, 2))-(math.pow(d, 2)), -(d*a)-(e*b), -(c*a)-(b*m)])\n",
    "    s = np.linalg.lstsq(A, b, rcond=-1)[0]\n",
    "    u = s[1]\n",
    "    v = s[2]\n",
    "    f = math.sqrt(np.absolute(s[0] - (math.pow(u, 2)) - (math.pow(v, 2))))\n",
    "    return f, u, v"
   ]
  },
  {
   "cell_type": "code",
   "execution_count": 13,
   "metadata": {},
   "outputs": [],
   "source": [
    "def get_rotation_matrix(vx, vy, vz, K):\n",
    "    vx = np.reshape(vx, (3, 1))\n",
    "    vy = np.reshape(vy, (3, 1))\n",
    "    vz = np.reshape(vz, (3, 1))\n",
    "    v = np.hstack((vx, vy))\n",
    "    v = np.hstack((v, vz))\n",
    "    a = np.dot(np.linalg.inv(K), v)\n",
    "    l = 1/(np.linalg.det(a))\n",
    "    l = math.pow(l, -3)\n",
    "    R = l*np.dot(np.linalg.inv(K), v)\n",
    "    return R"
   ]
  },
  {
   "cell_type": "code",
   "execution_count": 14,
   "metadata": {},
   "outputs": [],
   "source": [
    "def estimate_height(coords, t_0, b_0, H, vx, vy, vz):\n",
    "    \"\"\"\n",
    "    Estimates height for a specific object using the recorded coordinates. You might need to plot additional images here for\n",
    "    your report.\n",
    "    \"\"\"\n",
    "    r = np.array([(coords)[0][0], (coords)[1][0], (coords)[2][0]])\n",
    "    b = np.array([(coords)[0][1], (coords)[1][1], (coords)[2][1]])\n",
    "    m1, c1 = get_line_2(b, b_0)\n",
    "    m2, c2 = get_line_2(vx, vy)\n",
    "    v = intersection([-m1, 1.0, c1], [-m2, 1.0, c2])\n",
    "    m3, c3 = get_line_2(v, t_0)\n",
    "    m4, c4 = get_line_2(b, r)\n",
    "    t = intersection([-m3, 1.0, c3], [-m4, 1.0, c4])\n",
    "    t[0] = b[0]\n",
    "    \n",
    "    i = (np.linalg.norm(np.subtract(t, b))*np.linalg.norm(np.subtract(vz, r))) / (np.linalg.norm(np.subtract(r, b))*np.linalg.norm(np.subtract(vz, t)))\n",
    "    return H/i"
   ]
  },
  {
   "cell_type": "markdown",
   "metadata": {},
   "source": [
    "# Main function"
   ]
  },
  {
   "cell_type": "code",
   "execution_count": 15,
   "metadata": {},
   "outputs": [
    {
     "name": "stdout",
     "output_type": "stream",
     "text": [
      "Getting vanishing point 0\n",
      "Set at least 3 lines to compute vanishing point\n",
      "Click the two endpoints, use the right key to undo, and use the middle key to stop input\n",
      "Click the two endpoints, use the right key to undo, and use the middle key to stop input\n",
      "Click the two endpoints, use the right key to undo, and use the middle key to stop input\n",
      "Click the two endpoints, use the right key to undo, and use the middle key to stop input\n",
      "Getting vanishing point 1\n",
      "Set at least 3 lines to compute vanishing point\n",
      "Click the two endpoints, use the right key to undo, and use the middle key to stop input\n",
      "Click the two endpoints, use the right key to undo, and use the middle key to stop input\n",
      "Click the two endpoints, use the right key to undo, and use the middle key to stop input\n",
      "Click the two endpoints, use the right key to undo, and use the middle key to stop input\n",
      "Getting vanishing point 2\n",
      "Set at least 3 lines to compute vanishing point\n",
      "Click the two endpoints, use the right key to undo, and use the middle key to stop input\n",
      "Click the two endpoints, use the right key to undo, and use the middle key to stop input\n",
      "Click the two endpoints, use the right key to undo, and use the middle key to stop input\n",
      "Click the two endpoints, use the right key to undo, and use the middle key to stop input\n"
     ]
    },
    {
     "name": "stderr",
     "output_type": "stream",
     "text": [
      "/Users/jacobhutter/anaconda2/lib/python2.7/site-packages/ipykernel_launcher.py:25: RuntimeWarning: divide by zero encountered in divide\n",
      "/Users/jacobhutter/anaconda2/lib/python2.7/site-packages/ipykernel_launcher.py:25: RuntimeWarning: invalid value encountered in divide\n",
      "/Users/jacobhutter/anaconda2/lib/python2.7/site-packages/ipykernel_launcher.py:26: RuntimeWarning: divide by zero encountered in divide\n",
      "/Users/jacobhutter/anaconda2/lib/python2.7/site-packages/ipykernel_launcher.py:26: RuntimeWarning: invalid value encountered in divide\n"
     ]
    },
    {
     "name": "stdout",
     "output_type": "stream",
     "text": [
      "('Pixel vanishing points: ', array([-157.35614692,  245.46977405,    1.        ]), ' ', array([1.56281829e+03, 1.90987698e+02, 1.00000000e+00]), ' ', array([470.5887283 , 127.19401028,   1.        ]), '\\n')\n",
      "('Horizon line (non-pixel and pixel): ', (1.7451247295399075, 0.3123353685624286), (-3.0491828378433765, 675.5099110826133), '\\n')\n",
      "('Horizon line non-pixel normalized: ', '\\n')\n",
      "('F: ', 16.68436663063714, 'U: ', 9.276835297685642, 'V: ', 13.148676980682714, '\\n')\n",
      "('Rotation Matrix: ', array([[ 6.96951455e-09,  1.40983503e-09,  2.36199646e-09],\n",
      "       [-2.98747740e-09,  4.83717391e-10, -9.56273740e-10],\n",
      "       [ 3.74788261e-08,  3.74788261e-08,  3.74788261e-08]]), '\\n')\n",
      "Click on the top coordinate of person\n",
      "Click on the bottom coordinate of person\n",
      "Click on the top coordinate of CSL building\n",
      "Click on the bottom coordinate of CSL building\n",
      "Click on the top coordinate of the spike statue\n",
      "Click on the bottom coordinate of the spike statue\n",
      "Click on the top coordinate of the lamp posts\n",
      "Click on the bottom coordinate of the lamp posts\n",
      "Estimating height of CSL building\n",
      "(57.75871299099512, '\\n')\n",
      "Estimating height of the spike statue\n",
      "(43.499842823999536, '\\n')\n",
      "Estimating height of the lamp posts\n",
      "(18.416289839470647, '\\n')\n"
     ]
    }
   ],
   "source": [
    "im = np.asarray(Image.open('CSL.jpg'))\n",
    "\n",
    "# Part 1\n",
    "# Get vanishing points for each of the directions\n",
    "num_vpts = 3\n",
    "vpts = np.zeros((3, num_vpts))\n",
    "pixel_vpts = np.zeros((3, num_vpts))\n",
    "for i in range(num_vpts):\n",
    "    print('Getting vanishing point %d' % i)\n",
    "    # Get at least three lines from user input\n",
    "    n, lines, centers = get_input_lines(im)\n",
    "    # <YOUR IMPLEMENTATION> Solve for vanishing point\n",
    "    vpts[:, i] = get_vanishing_point(n, lines, centers)\n",
    "    # Plot the lines and the vanishing point\n",
    "    pixel_vpts[:, i] = plot_lines_and_vp(im, lines, vpts[:, i])\n",
    "    \n",
    "\n",
    "horizon_line, pixel_line = get_horizon_line(vpts, pixel_vpts)\n",
    "plot_horizon_line(im, pixel_vpts[0], pixel_vpts[1])\n",
    "\n",
    "# Part 2\n",
    "# <YOUR IMPLEMENTATION> Solve for the camera parameters (f, u, v)\n",
    "f, u, v = get_camera_parameters(vpts)\n",
    "v1 = np.array([pixel_vpts[0][0], pixel_vpts[1][0], pixel_vpts[2][0]])\n",
    "v2 = np.array([pixel_vpts[0][1], pixel_vpts[1][1], pixel_vpts[2][1]])\n",
    "v3 = np.array([pixel_vpts[0][2], pixel_vpts[1][2], pixel_vpts[2][2]])\n",
    "print (\"Pixel vanishing points: \", v1, \" \", v2, \" \", v3, \"\\n\")\n",
    "print (\"Horizon line (non-pixel and pixel): \", horizon_line, pixel_line, \"\\n\")\n",
    "print (\"Horizon line non-pixel normalized: \", \"\\n\")\n",
    "print (\"F: \", f, \"U: \", u, \"V: \", v, \"\\n\")\n",
    "vh1 = np.array([vpts[0][0], vpts[1][0], vpts[2][0]])\n",
    "vh2 = np.array([vpts[0][1], vpts[1][1], vpts[2][1]])\n",
    "vh3 = np.array([vpts[0][2], vpts[1][2], vpts[2][2]])\n",
    "# Part 3\n",
    "# <YOUR IMPLEMENTATION> Solve for the rotation matrix\n",
    "R = get_rotation_matrix(vh2, vh3, vh1, np.array([[f,0, -u/f], [0, f, -v/f], [0, 0, 1]]))\n",
    "print(\"Rotation Matrix: \", R, \"\\n\")\n",
    "# Part 4\n",
    "# Record image coordinates for each object and store in map\n",
    "objects = ('person', 'CSL building', 'the spike statue', 'the lamp posts')\n",
    "coords = dict()\n",
    "for obj in objects:\n",
    "    coords[obj] = get_top_and_bottom_coordinates(im, obj)\n",
    "    \n",
    "t = np.array([(coords['person'])[0][0], (coords['person'])[1][0], (coords['person'])[2][0]])\n",
    "b = np.array([(coords['person'])[0][1], (coords['person'])[1][1], (coords['person'])[2][1]])\n",
    "for obj in objects[1:]:\n",
    "    print('Estimating height of %s' % obj)\n",
    "    height = estimate_height(coords[obj], t, b , 72.0, v2, v3, v1)\n",
    "    print(height/12, '\\n')\n"
   ]
  }
 ],
 "metadata": {
  "kernelspec": {
   "display_name": "Python 2",
   "language": "python",
   "name": "python2"
  },
  "language_info": {
   "codemirror_mode": {
    "name": "ipython",
    "version": 2
   },
   "file_extension": ".py",
   "mimetype": "text/x-python",
   "name": "python",
   "nbconvert_exporter": "python",
   "pygments_lexer": "ipython2",
   "version": "2.7.14"
  }
 },
 "nbformat": 4,
 "nbformat_minor": 2
}
