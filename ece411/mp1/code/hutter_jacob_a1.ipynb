{
 "cells": [
  {
   "cell_type": "markdown",
   "metadata": {},
   "source": [
    "# Common imports"
   ]
  },
  {
   "cell_type": "code",
   "execution_count": null,
   "metadata": {
    "collapsed": true
   },
   "outputs": [],
   "source": [
    "%matplotlib inline\n",
    "import os\n",
    "import sys\n",
    "import glob\n",
    "import re\n",
    "import numpy as np\n",
    "import matplotlib\n",
    "import matplotlib.pyplot as plt\n",
    "from mpl_toolkits.mplot3d import Axes3D\n",
    "from PIL import Image\n",
    "import scipy.ndimage\n",
    "from random import *\n",
    "import time"
   ]
  },
  {
   "cell_type": "markdown",
   "metadata": {},
   "source": [
    "# Provided functions\n",
    "### Image loading and saving"
   ]
  },
  {
   "cell_type": "code",
   "execution_count": null,
   "metadata": {
    "collapsed": true
   },
   "outputs": [],
   "source": [
    "def LoadFaceImages(pathname, subject_name, num_images):\n",
    "    \"\"\"\n",
    "    Load the set of face images.  \n",
    "    The routine returns\n",
    "        ambimage: image illuminated under the ambient lighting\n",
    "        imarray: a 3-D array of images, h x w x Nimages\n",
    "        lightdirs: Nimages x 3 array of light source directions\n",
    "    \"\"\"\n",
    "\n",
    "    def load_image(fname):\n",
    "        return np.asarray(Image.open(fname))\n",
    "\n",
    "    def fname_to_ang(fname):\n",
    "        yale_name = os.path.basename(fname)\n",
    "        return int(yale_name[12:16]), int(yale_name[17:20])\n",
    "\n",
    "    def sph2cart(az, el, r):\n",
    "        rcos_theta = r * np.cos(el)\n",
    "        x = rcos_theta * np.cos(az)\n",
    "        y = rcos_theta * np.sin(az)\n",
    "        z = r * np.sin(el)\n",
    "        return x, y, z\n",
    "\n",
    "    ambimage = load_image(\n",
    "        os.path.join(pathname, subject_name + '_P00_Ambient.pgm'))\n",
    "    im_list = glob.glob(os.path.join(pathname, subject_name + '_P00A*.pgm'))\n",
    "    if num_images <= len(im_list):\n",
    "        im_sub_list = np.random.choice(im_list, num_images, replace=False)\n",
    "    else:\n",
    "        print(\n",
    "            'Total available images is less than specified.\\nProceeding with %d images.\\n'\n",
    "            % len(im_list))\n",
    "        im_sub_list = im_list\n",
    "    im_sub_list.sort()\n",
    "    imarray = np.stack([load_image(fname) for fname in im_sub_list], axis=-1)\n",
    "    Ang = np.array([fname_to_ang(fname) for fname in im_sub_list])\n",
    "\n",
    "    x, y, z = sph2cart(Ang[:, 0] / 180.0 * np.pi, Ang[:, 1] / 180.0 * np.pi, 1)\n",
    "    lightdirs = np.stack([y, z, x], axis=-1)\n",
    "    return ambimage, imarray, lightdirs"
   ]
  },
  {
   "cell_type": "code",
   "execution_count": null,
   "metadata": {
    "collapsed": true
   },
   "outputs": [],
   "source": [
    "def save_outputs(subject_name, albedo_image, surface_normals):\n",
    "    im = Image.fromarray((albedo_image*255).astype(np.uint8))\n",
    "    im.save(\"%s_albedo.jpg\" % subject_name)\n",
    "    im = Image.fromarray((surface_normals[:,:,0]*128+128).astype(np.uint8))\n",
    "    im.save(\"%s_normals_x.jpg\" % subject_name)\n",
    "    im = Image.fromarray((surface_normals[:,:,1]*128+128).astype(np.uint8))\n",
    "    im.save(\"%s_normals_y.jpg\" % subject_name)\n",
    "    im = Image.fromarray((surface_normals[:,:,2]*128+128).astype(np.uint8))\n",
    "    im.save(\"%s_normals_z.jpg\" % subject_name)"
   ]
  },
  {
   "cell_type": "markdown",
   "metadata": {},
   "source": [
    "### Plot the height map"
   ]
  },
  {
   "cell_type": "code",
   "execution_count": null,
   "metadata": {
    "collapsed": true
   },
   "outputs": [],
   "source": [
    "def set_aspect_equal_3d(ax):\n",
    "    \"\"\"https://stackoverflow.com/questions/13685386\"\"\"\n",
    "    \"\"\"Fix equal aspect bug for 3D plots.\"\"\"\n",
    "    xlim = ax.get_xlim3d()\n",
    "    ylim = ax.get_ylim3d()\n",
    "    zlim = ax.get_zlim3d()\n",
    "    from numpy import mean\n",
    "    xmean = mean(xlim)\n",
    "    ymean = mean(ylim)\n",
    "    zmean = mean(zlim)\n",
    "    plot_radius = max([\n",
    "        abs(lim - mean_)\n",
    "        for lims, mean_ in ((xlim, xmean), (ylim, ymean), (zlim, zmean))\n",
    "        for lim in lims\n",
    "    ])\n",
    "    ax.set_xlim3d([xmean - plot_radius, xmean + plot_radius])\n",
    "    ax.set_ylim3d([ymean - plot_radius, ymean + plot_radius])\n",
    "    ax.set_zlim3d([zmean - plot_radius, zmean + plot_radius])\n",
    "\n",
    "\n",
    "def display_output(albedo_image, height_map):\n",
    "    fig = plt.figure()\n",
    "    plt.imshow(albedo_image, cmap='gray')\n",
    "    plt.axis('off')\n",
    "    \n",
    "    fig = plt.figure(figsize=(10, 10))\n",
    "    ax = fig.gca(projection='3d')\n",
    "    ax.view_init(20, 20)\n",
    "    X = np.arange(albedo_image.shape[0])\n",
    "    Y = np.arange(albedo_image.shape[1])\n",
    "    X, Y = np.meshgrid(Y, X)\n",
    "    H = np.flipud(np.fliplr(height_map))\n",
    "    A = np.flipud(np.fliplr(albedo_image))\n",
    "    A = np.stack([A, A, A], axis=-1)\n",
    "    ax.xaxis.set_ticks([])\n",
    "    ax.xaxis.set_label_text('Z')\n",
    "    ax.yaxis.set_ticks([])\n",
    "    ax.yaxis.set_label_text('X')\n",
    "    ax.zaxis.set_ticks([])\n",
    "    ax.yaxis.set_label_text('Y')\n",
    "    surf = ax.plot_surface(\n",
    "        H, X, Y, cmap='gray', facecolors=A, linewidth=0, antialiased=False)\n",
    "    set_aspect_equal_3d(ax)"
   ]
  },
  {
   "cell_type": "markdown",
   "metadata": {},
   "source": [
    "### Plot the surface norms. "
   ]
  },
  {
   "cell_type": "code",
   "execution_count": null,
   "metadata": {
    "collapsed": true
   },
   "outputs": [],
   "source": [
    "def plot_surface_normals(surface_normals):\n",
    "    \"\"\"\n",
    "    surface_normals: h x w x 3 matrix.\n",
    "    \"\"\"\n",
    "    fig = plt.figure()\n",
    "    ax = plt.subplot(1, 3, 1)\n",
    "    ax.axis('off')\n",
    "    ax.set_title('X')\n",
    "    im = ax.imshow(surface_normals[:,:,0])\n",
    "    ax = plt.subplot(1, 3, 2)\n",
    "    ax.axis('off')\n",
    "    ax.set_title('Y')\n",
    "    im = ax.imshow(surface_normals[:,:,1])\n",
    "    ax = plt.subplot(1, 3, 3)\n",
    "    ax.axis('off')\n",
    "    ax.set_title('Z')\n",
    "    im = ax.imshow(surface_normals[:,:,2])"
   ]
  },
  {
   "cell_type": "markdown",
   "metadata": {},
   "source": [
    "# Your implementation"
   ]
  },
  {
   "cell_type": "code",
   "execution_count": null,
   "metadata": {
    "collapsed": true
   },
   "outputs": [],
   "source": [
    "def preprocess(ambimage, imarray):\n",
    "    processed_imarray = imarray\n",
    "    processed_imarray = np.subtract(processed_imarray, ambimage[:,:,None])\n",
    "    min_value = np.min(processed_imarray)\n",
    "    processed_imarray = np.add(processed_imarray, abs(min_value)).astype('float')\n",
    "    max_value = np.amax(processed_imarray)\n",
    "    processed_imarray = np.divide(processed_imarray, max_value)\n",
    "    print('done with preprocess')\n",
    "    \"\"\"\n",
    "    preprocess the data: \n",
    "        1. subtract ambient_image from each image in imarray. done \n",
    "        2. make sure no pixel is less than zero. done \n",
    "        3. rescale values in imarray to be between 0 and 1. done \n",
    "    Inputs:\n",
    "        ambimage: h x w\n",
    "        imarray: h x w x N images\n",
    "    Outputs:\n",
    "        processed_imarray: h x w x N images\n",
    "    \"\"\"\n",
    "    return processed_imarray"
   ]
  },
  {
   "cell_type": "code",
   "execution_count": null,
   "metadata": {
    "collapsed": true
   },
   "outputs": [],
   "source": [
    "def photometric_stereo(imarray, light_dirs):\n",
    "    h = imarray.shape[0]\n",
    "    w = imarray.shape[1]\n",
    "    N = imarray.shape[2]\n",
    "    reshaped_imarray = np.transpose(np.reshape(imarray,(h*w,N))) # 64 rows of r*w image pixels \n",
    "    g = np.linalg.lstsq(light_dirs, reshaped_imarray)[0] # solve lin eq\n",
    "    g_x = np.reshape(g[0], (h,w))\n",
    "    g_y = np.reshape(g[1], (h,w))\n",
    "    g_z = np.reshape(g[2], (h,w))\n",
    "    surface_normals = np.dstack((g_x,g_y,g_z)) # stack so we have image of vectors\n",
    "    albedo_image = np.zeros((h,w))\n",
    "    for i in range(h):\n",
    "        for j in range(w):\n",
    "            cur_pixel_norm = np.linalg.norm(surface_normals[i][j]) # get magnitude of vector\n",
    "            albedo_image[i][j]= cur_pixel_norm # assign magnitude to albedo image slot\n",
    "            surface_normals[i][j] /= cur_pixel_norm # divide by mag to get unit norm\n",
    "    print('done with photometric stereo')\n",
    "    \"\"\"\n",
    "    Inputs:\n",
    "        imarray:  h x w x Nimages\n",
    "        light_dirs: Nimages x 3\n",
    "    Outputs:\n",
    "        albedo_image: h x w\n",
    "        surface_norms: h x w x 3\n",
    "    \"\"\"\n",
    "    return albedo_image, surface_normals"
   ]
  },
  {
   "cell_type": "code",
   "execution_count": null,
   "metadata": {
    "collapsed": true
   },
   "outputs": [],
   "source": [
    "def column(matrix, i):\n",
    "    return np.asarray([row[i] for row in matrix])"
   ]
  },
  {
   "cell_type": "code",
   "execution_count": null,
   "metadata": {
    "collapsed": true
   },
   "outputs": [],
   "source": [
    "def columns_l(matrix, i):\n",
    "    return np.asarray([row[:i] for row in matrix])"
   ]
  },
  {
   "cell_type": "code",
   "execution_count": null,
   "metadata": {
    "collapsed": true
   },
   "outputs": [],
   "source": [
    "def columns_r(matrix, i):\n",
    "    return np.asarray([row[i:] for row in matrix])"
   ]
  },
  {
   "cell_type": "code",
   "execution_count": null,
   "metadata": {
    "collapsed": true
   },
   "outputs": [],
   "source": [
    "def get_surface(surface_normals, integration_method):\n",
    "    h = surface_normals.shape[0]\n",
    "    w = surface_normals.shape[1]\n",
    "    N = surface_normals.shape[2]\n",
    "    fx_mat = np.zeros((h, w))\n",
    "    fy_mat = np.zeros((h, w))\n",
    "    \n",
    "    for x in range(h):\n",
    "        for y in range(w):\n",
    "            fx_mat[x][y] = np.divide(surface_normals[x][y][0], surface_normals[x][y][2]).astype('float')\n",
    "            fy_mat[x][y] = np.divide(surface_normals[x][y][1], surface_normals[x][y][2]).astype('float')\n",
    "\n",
    "    if integration_method == 'method1' or integration_method == 'average':\n",
    "        t1 = time.time()\n",
    "        # method 1: rows first, then cols \n",
    "        height_map_col_1 = np.cumsum(fy_mat, axis=0) # sum over all col\n",
    "        height_map_row_1 = np.cumsum(fx_mat[0][:])\n",
    "        height_map_row_1 = np.tile(height_map_row_1, (h, 1)) \n",
    "        height_map_1 = np.add(height_map_col_1, height_map_row_1)\n",
    "        t1f = time.time() - t1\n",
    "        print('method 1 time: ', t1f)\n",
    "    \n",
    "    if integration_method == 'method2' or integration_method == 'average':\n",
    "        t2 = time.time()\n",
    "        # method 2: cols first, then rows\n",
    "        height_map_row_2 = np.cumsum(fx_mat, axis=1) # sum over all rows \n",
    "        height_map_col_2 = np.cumsum(column(fy_mat, 0).transpose(), axis=0).transpose()\n",
    "        height_map_col_2 = np.tile(height_map_col_2, (w, 1)).transpose()\n",
    "        height_map_2 = np.add(height_map_col_2, height_map_row_2)\n",
    "        t2f = time.time() - t2\n",
    "        print('method 2 time: ', t2f)\n",
    "    \n",
    "    if integration_method == 'average':\n",
    "        t3 = time.time()\n",
    "        # method 3: average of the first two methods\n",
    "        height_map_3 = np.add(height_map_1, height_map_2)\n",
    "        height_map_3 = np.divide(height_map_3, 2)\n",
    "        t3f = time.time() - t3\n",
    "        print('average time', t1f + t2f + t3f)\n",
    "    \n",
    "    if integration_method == 'random':\n",
    "        t4 = time.time()\n",
    "        # method 4: several random paths \n",
    "        height_map_4 = np.zeros((h, w))\n",
    "        for i in range(0,100):\n",
    "            r_index = randint(0, h-1)\n",
    "            c_index = randint(0, w-1)\n",
    "            height_map_row_41 = np.cumsum(fx_mat[r_index][:])\n",
    "            height_map_row_41 = np.tile(height_map_row_41, (h, 1))   \n",
    "            height_map_col_41_top = np.flip(fy_mat[:r_index][:], 0)\n",
    "            height_map_col_41_top = np.cumsum(height_map_col_41_top, axis=0)\n",
    "            height_map_col_41_top = np.flip(height_map_col_41_top, 0) \n",
    "            height_map_col_41_bottom = fy_mat[r_index:][:]\n",
    "            height_map_col_41_bottom = np.cumsum(height_map_col_41_bottom, axis=0)\n",
    "            height_map_col_41 = np.concatenate((height_map_col_41_top, height_map_col_41_bottom), axis=0)\n",
    "            height_map_41 = np.add(height_map_row_41, height_map_col_41)\n",
    "\n",
    "            height_map_col_42 = np.cumsum(column(fy_mat, c_index).transpose(), axis=0).transpose()\n",
    "            height_map_col_42 = np.tile(height_map_col_42, (w, 1)).transpose()\n",
    "            height_map_row_42_left = np.flip(np.cumsum(np.flip(columns_l(fx_mat,c_index), 1), axis=1), 1)\n",
    "            height_map_row_42_right = np.cumsum(columns_r(fx_mat, c_index), axis=1)\n",
    "            height_map_row_42 = np.concatenate((height_map_row_42_left, height_map_row_42_right), axis=1)\n",
    "            height_map_42 = np.add(height_map_row_42, height_map_col_42)\n",
    "            height_map_4 += height_map_42 + height_map_41\n",
    "        height_map_4 = np.divide(height_map_4, 100)\n",
    "        t4f = time.time() - t4\n",
    "        print('random time', t4f)\n",
    "        \n",
    "    if(integration_method == 'method1'):\n",
    "        print('method 1 chosen')\n",
    "        height_map = height_map_1\n",
    "    elif(integration_method == 'method2'):\n",
    "        print('method 2 chosen')\n",
    "        height_map = height_map_2\n",
    "    elif(integration_method == 'average'):\n",
    "        print('average chosen')\n",
    "        height_map = height_map_3\n",
    "    else:\n",
    "        print('random chosen')\n",
    "        height_map = height_map_4\n",
    "    \n",
    "    height_map = scipy.ndimage.filters.gaussian_filter(height_map, 5) # smooth height abnormalities\n",
    "\n",
    "    \"\"\"\n",
    "    Inputs:\n",
    "        surface_normals:h x w x 3\n",
    "        integration_method: string in ['average', 'column', 'row', 'random']\n",
    "    Outputs:\n",
    "        height_map: h x w\n",
    "    \"\"\"\n",
    "    print('done with height mapping')\n",
    "    return height_map"
   ]
  },
  {
   "cell_type": "markdown",
   "metadata": {},
   "source": [
    "# Main function"
   ]
  },
  {
   "cell_type": "code",
   "execution_count": null,
   "metadata": {},
   "outputs": [],
   "source": [
    "root_path = '../croppedyale/'\n",
    "subject_name = 'yaleB02'\n",
    "integration_method = 'random'\n",
    "save_flag = True\n",
    "\n",
    "full_path = '%s%s' % (root_path, subject_name)\n",
    "ambient_image, imarray, light_dirs = LoadFaceImages(full_path, subject_name,\n",
    "                                                    64)\n",
    "\n",
    "processed_imarray = preprocess(ambient_image, imarray)\n",
    "\n",
    "albedo_image, surface_normals = photometric_stereo(processed_imarray,\n",
    "                                                   light_dirs)\n",
    "\n",
    "height_map = get_surface(surface_normals, integration_method)\n",
    "\n",
    "if save_flag:\n",
    "    save_outputs(subject_name, albedo_image, surface_normals)"
   ]
  },
  {
   "cell_type": "code",
   "execution_count": null,
   "metadata": {},
   "outputs": [],
   "source": [
    "plot_surface_normals(surface_normals)"
   ]
  },
  {
   "cell_type": "code",
   "execution_count": null,
   "metadata": {},
   "outputs": [],
   "source": [
    "display_output(albedo_image, height_map)"
   ]
  }
 ],
 "metadata": {
  "kernelspec": {
   "display_name": "Python 3",
   "language": "python",
   "name": "python3"
  },
  "language_info": {
   "codemirror_mode": {
    "name": "ipython",
    "version": 3
   },
   "file_extension": ".py",
   "mimetype": "text/x-python",
   "name": "python",
   "nbconvert_exporter": "python",
   "pygments_lexer": "ipython3",
   "version": "3.6.3"
  }
 },
 "nbformat": 4,
 "nbformat_minor": 2
}
