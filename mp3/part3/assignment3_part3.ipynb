{
 "cells": [
  {
   "cell_type": "markdown",
   "metadata": {},
   "source": [
    "# Single-View Geometry (Python)\n",
    "\n",
    "## Usage\n",
    "This code snippet provides an overall code structure and some interactive plot interfaces for the *Single-View Geometry* section of Assignment 3. In [main function](#Main-function), we outline the required functionalities step by step. Some of the functions which involves interactive plots are already provided, but [the rest](#Your-implementation) are left for you to implement.\n",
    "\n",
    "## Package installation\n",
    "- You will need [GUI backend](https://matplotlib.org/faq/usage_faq.html#what-is-a-backend) to enable interactive plots in `matplotlib`.\n",
    "- In this code, we use `tkinter` package. Installation instruction can be found [here](https://anaconda.org/anaconda/tk)."
   ]
  },
  {
   "cell_type": "markdown",
   "metadata": {},
   "source": [
    "# Common imports"
   ]
  },
  {
   "cell_type": "code",
   "execution_count": 1,
   "metadata": {},
   "outputs": [],
   "source": [
    "% matplotlib tk\n",
    "import matplotlib.pyplot as plt\n",
    "import numpy as np\n",
    "\n",
    "from PIL import Image"
   ]
  },
  {
   "cell_type": "markdown",
   "metadata": {},
   "source": [
    "# Provided functions"
   ]
  },
  {
   "cell_type": "code",
   "execution_count": 2,
   "metadata": {},
   "outputs": [],
   "source": [
    "def get_input_lines(im, min_lines=3):\n",
    "    \"\"\"\n",
    "    Allows user to input line segments; computes centers and directions.\n",
    "    Inputs:\n",
    "        im: np.ndarray of shape (height, width, 3)\n",
    "        min_lines: minimum number of lines required\n",
    "    Returns:\n",
    "        n: number of lines from input\n",
    "        lines: np.ndarray of shape (3, n)\n",
    "            where each column denotes the parameters of the line equation\n",
    "        centers: np.ndarray of shape (3, n)\n",
    "            where each column denotes the homogeneous coordinates of the centers\n",
    "    \"\"\"\n",
    "    n = 0\n",
    "    lines = np.zeros((3, 0))\n",
    "    centers = np.zeros((3, 0))\n",
    "\n",
    "    plt.figure()\n",
    "    plt.imshow(im)\n",
    "    print('Set at least %d lines to compute vanishing point' % min_lines)\n",
    "    while True:\n",
    "        print('Click the two endpoints, use the right key to undo, and use the middle key to stop input')\n",
    "        clicked = plt.ginput(2, timeout=0, show_clicks=True)\n",
    "        if not clicked or len(clicked) < 2:\n",
    "            if n < min_lines:\n",
    "                print('Need at least %d lines, you have %d now' % (min_lines, n))\n",
    "                continue\n",
    "            else:\n",
    "                # Stop getting lines if number of lines is enough\n",
    "                break\n",
    "\n",
    "        # Unpack user inputs and save as homogeneous coordinates\n",
    "        pt1 = np.array([clicked[0][0], clicked[0][1], 1])\n",
    "        pt2 = np.array([clicked[1][0], clicked[1][1], 1])\n",
    "        # Get line equation using cross product\n",
    "        # Line equation: line[0] * x + line[1] * y + line[2] = 0\n",
    "        line = np.cross(pt1, pt2)\n",
    "        lines = np.append(lines, line.reshape((3, 1)), axis=1)\n",
    "        # Get center coordinate of the line segment\n",
    "        center = (pt1 + pt2) / 2\n",
    "        centers = np.append(centers, center.reshape((3, 1)), axis=1)\n",
    "\n",
    "        # Plot line segment\n",
    "        plt.plot([pt1[0], pt2[0]], [pt1[1], pt2[1]], color='b')\n",
    "\n",
    "        n += 1\n",
    "\n",
    "    return n, lines, centers"
   ]
  },
  {
   "cell_type": "code",
   "execution_count": 3,
   "metadata": {},
   "outputs": [],
   "source": [
    "def plot_lines_and_vp(im, lines, vp):\n",
    "    \"\"\"\n",
    "    Plots user-input lines and the calculated vanishing point.\n",
    "    Inputs:\n",
    "        im: np.ndarray of shape (height, width, 3)\n",
    "        lines: np.ndarray of shape (3, n)\n",
    "            where each column denotes the parameters of the line equation\n",
    "        vp: np.ndarray of shape (3, )\n",
    "    \"\"\"\n",
    "    bx1 = min(1, vp[0] / vp[2]) - 10\n",
    "    bx2 = max(im.shape[1], vp[0] / vp[2]) + 10\n",
    "    by1 = min(1, vp[1] / vp[2]) - 10\n",
    "    by2 = max(im.shape[0], vp[1] / vp[2]) + 10\n",
    "\n",
    "    plt.figure()\n",
    "    plt.imshow(im)\n",
    "    pixel_lines = []\n",
    "    for i in range(lines.shape[1]):\n",
    "        if lines[0, i] < lines[1, i]:\n",
    "            pt1 = np.cross(np.array([1, 0, -bx1]), lines[:, i])\n",
    "            pt2 = np.cross(np.array([1, 0, -bx2]), lines[:, i])\n",
    "        else:\n",
    "            pt1 = np.cross(np.array([0, 1, -by1]), lines[:, i])\n",
    "            pt2 = np.cross(np.array([0, 1, -by2]), lines[:, i])\n",
    "        pt1 = pt1 / pt1[2]\n",
    "        pt2 = pt2 / pt2[2]\n",
    "        points = [(pt1[0], pt1[1]),(pt2[0], pt2[1])]\n",
    "        x_coords, y_coords = zip(*points)\n",
    "        A = np.vstack([x_coords ,np.ones(len(x_coords))]).T\n",
    "        m, c = np.linalg.lstsq(A, y_coords)[0]\n",
    "        pixel_lines.append([-m, 1, c])\n",
    "        plt.plot([pt1[0], pt2[0]], [pt1[1], pt2[1]], 'g')\n",
    "    l1 = pixel_lines[0]\n",
    "    l2 = pixel_lines[1]\n",
    "    vp = intersection(l1, l2)\n",
    "    plt.plot(vp[0] , vp[1] , 'ro')\n",
    "    plt.show()"
   ]
  },
  {
   "cell_type": "code",
   "execution_count": 4,
   "metadata": {},
   "outputs": [],
   "source": [
    "def get_top_and_bottom_coordinates(im, obj):\n",
    "    \"\"\"\n",
    "    For a specific object, prompts user to record the top coordinate and the bottom coordinate in the image.\n",
    "    Inputs:\n",
    "        im: np.ndarray of shape (height, width, 3)\n",
    "        obj: string, object name\n",
    "    Returns:\n",
    "        coord: np.ndarray of shape (3, 2)\n",
    "            where coord[:, 0] is the homogeneous coordinate of the top of the object and coord[:, 1] is the homogeneous\n",
    "            coordinate of the bottom\n",
    "    \"\"\"\n",
    "    plt.figure()\n",
    "    plt.imshow(im)\n",
    "\n",
    "    print('Click on the top coordinate of %s' % obj)\n",
    "    clicked = plt.ginput(1, timeout=0, show_clicks=True)\n",
    "    x1, y1 = clicked[0]\n",
    "    # Uncomment this line to enable a vertical line to help align the two coordinates\n",
    "    # plt.plot([x1, x1], [0, im.shape[0]], 'b')\n",
    "    print('Click on the bottom coordinate of %s' % obj)\n",
    "    clicked = plt.ginput(1, timeout=0, show_clicks=True)\n",
    "    x2, y2 = clicked[0]\n",
    "\n",
    "    plt.plot([x1, x2], [y1, y2], 'b')\n",
    "\n",
    "    return np.array([[x1, x2], [y1, y2], [1, 1]])"
   ]
  },
  {
   "cell_type": "markdown",
   "metadata": {},
   "source": [
    "# Your implementation"
   ]
  },
  {
   "cell_type": "code",
   "execution_count": 5,
   "metadata": {},
   "outputs": [],
   "source": [
    "def intersection(L1, L2):\n",
    "    D  = L1[0] * L2[1] - L1[1] * L2[0]\n",
    "    Dx = L1[2] * L2[1] - L1[1] * L2[2]\n",
    "    Dy = L1[0] * L2[2] - L1[2] * L2[0]\n",
    "    if D != 0:\n",
    "        x = Dx / D\n",
    "        y = Dy / D\n",
    "        return np.array([x, y, 1])\n",
    "    else:\n",
    "        return [False]"
   ]
  },
  {
   "cell_type": "code",
   "execution_count": 6,
   "metadata": {},
   "outputs": [],
   "source": [
    "def get_vanishing_point(n, lines, centers):\n",
    "    \"\"\"\n",
    "    Solves for the vanishing point using the user-input lines.\n",
    "    given ax+by+c, change to y = a/bx + c/b\n",
    "    \"\"\"\n",
    "    line1 = np.reshape(lines[0], (3, ))\n",
    "    line2 = np.reshape(lines[1], (3, ))\n",
    "    line3 = np.reshape(lines[2], (3, ))\n",
    "    line1[2] = np.negative(line1[2])\n",
    "    line2[2] = np.negative(line2[2])\n",
    "    line3[2] = np.negative(line3[2])\n",
    "    i12 = intersection(line1, line2)\n",
    "    i13 = intersection(line1, line3)\n",
    "    i23 = intersection(line3, line3)\n",
    "    if i12.any != False:\n",
    "        return i12\n",
    "    elif i13.any != False:\n",
    "        return i13\n",
    "    else:\n",
    "        return i23"
   ]
  },
  {
   "cell_type": "code",
   "execution_count": 7,
   "metadata": {},
   "outputs": [],
   "source": [
    "def get_horizon_line():\n",
    "    \"\"\"\n",
    "    Calculates the ground horizon line.\n",
    "    \"\"\"\n",
    "    # <YOUR IMPLEMENTATION>\n",
    "    pass"
   ]
  },
  {
   "cell_type": "code",
   "execution_count": 8,
   "metadata": {},
   "outputs": [],
   "source": [
    "def plot_horizon_line():\n",
    "    \"\"\"\n",
    "    Plots the horizon line.\n",
    "    \"\"\"\n",
    "    # <YOUR IMPLEMENTATION>\n",
    "    pass"
   ]
  },
  {
   "cell_type": "code",
   "execution_count": 9,
   "metadata": {},
   "outputs": [],
   "source": [
    "def get_camera_parameters():\n",
    "    \"\"\"\n",
    "    Computes the camera parameters. Hint: The SymPy package is suitable for this.\n",
    "    \"\"\"\n",
    "    # <YOUR IMPLEMENTATION>\n",
    "    pass"
   ]
  },
  {
   "cell_type": "code",
   "execution_count": 10,
   "metadata": {},
   "outputs": [],
   "source": [
    "def get_rotation_matrix():\n",
    "    \"\"\"\n",
    "    Computes the rotation matrix using the camera parameters.\n",
    "    \"\"\"\n",
    "    # <YOUR IMPLEMENTATION>\n",
    "    return R"
   ]
  },
  {
   "cell_type": "code",
   "execution_count": 11,
   "metadata": {},
   "outputs": [],
   "source": [
    "def estimate_height():\n",
    "    \"\"\"\n",
    "    Estimates height for a specific object using the recorded coordinates. You might need to plot additional images here for\n",
    "    your report.\n",
    "    \"\"\"\n",
    "    # <YOUR IMPLEMENTATION>\n",
    "    pass"
   ]
  },
  {
   "cell_type": "markdown",
   "metadata": {},
   "source": [
    "# Main function"
   ]
  },
  {
   "cell_type": "code",
   "execution_count": 12,
   "metadata": {},
   "outputs": [
    {
     "name": "stdout",
     "output_type": "stream",
     "text": [
      "Getting vanishing point 0\n",
      "Set at least 3 lines to compute vanishing point\n",
      "Click the two endpoints, use the right key to undo, and use the middle key to stop input\n",
      "Click the two endpoints, use the right key to undo, and use the middle key to stop input\n",
      "Click the two endpoints, use the right key to undo, and use the middle key to stop input\n",
      "Click the two endpoints, use the right key to undo, and use the middle key to stop input\n"
     ]
    },
    {
     "ename": "NameError",
     "evalue": "global name 'ones' is not defined",
     "output_type": "error",
     "traceback": [
      "\u001b[0;31m---------------------------------------------------------------------------\u001b[0m",
      "\u001b[0;31mNameError\u001b[0m                                 Traceback (most recent call last)",
      "\u001b[0;32m<ipython-input-12-b15c46459dc5>\u001b[0m in \u001b[0;36m<module>\u001b[0;34m()\u001b[0m\n\u001b[1;32m     12\u001b[0m     \u001b[0mvpts\u001b[0m\u001b[0;34m[\u001b[0m\u001b[0;34m:\u001b[0m\u001b[0;34m,\u001b[0m \u001b[0mi\u001b[0m\u001b[0;34m]\u001b[0m \u001b[0;34m=\u001b[0m \u001b[0mget_vanishing_point\u001b[0m\u001b[0;34m(\u001b[0m\u001b[0mn\u001b[0m\u001b[0;34m,\u001b[0m \u001b[0mlines\u001b[0m\u001b[0;34m,\u001b[0m \u001b[0mcenters\u001b[0m\u001b[0;34m)\u001b[0m\u001b[0;34m\u001b[0m\u001b[0m\n\u001b[1;32m     13\u001b[0m     \u001b[0;31m# Plot the lines and the vanishing point\u001b[0m\u001b[0;34m\u001b[0m\u001b[0;34m\u001b[0m\u001b[0m\n\u001b[0;32m---> 14\u001b[0;31m     \u001b[0mplot_lines_and_vp\u001b[0m\u001b[0;34m(\u001b[0m\u001b[0mim\u001b[0m\u001b[0;34m,\u001b[0m \u001b[0mlines\u001b[0m\u001b[0;34m,\u001b[0m \u001b[0mvpts\u001b[0m\u001b[0;34m[\u001b[0m\u001b[0;34m:\u001b[0m\u001b[0;34m,\u001b[0m \u001b[0mi\u001b[0m\u001b[0;34m]\u001b[0m\u001b[0;34m)\u001b[0m\u001b[0;34m\u001b[0m\u001b[0m\n\u001b[0m\u001b[1;32m     15\u001b[0m \u001b[0;34m\u001b[0m\u001b[0m\n\u001b[1;32m     16\u001b[0m \u001b[0;31m# <YOUR IMPLEMENTATION> Get the ground horizon line\u001b[0m\u001b[0;34m\u001b[0m\u001b[0;34m\u001b[0m\u001b[0m\n",
      "\u001b[0;32m<ipython-input-3-8270fdcaa9e8>\u001b[0m in \u001b[0;36mplot_lines_and_vp\u001b[0;34m(im, lines, vp)\u001b[0m\n\u001b[1;32m     27\u001b[0m         \u001b[0mpoints\u001b[0m \u001b[0;34m=\u001b[0m \u001b[0;34m[\u001b[0m\u001b[0;34m(\u001b[0m\u001b[0mpt1\u001b[0m\u001b[0;34m[\u001b[0m\u001b[0;36m0\u001b[0m\u001b[0;34m]\u001b[0m\u001b[0;34m,\u001b[0m \u001b[0mpt1\u001b[0m\u001b[0;34m[\u001b[0m\u001b[0;36m1\u001b[0m\u001b[0;34m]\u001b[0m\u001b[0;34m)\u001b[0m\u001b[0;34m,\u001b[0m\u001b[0;34m(\u001b[0m\u001b[0mpt2\u001b[0m\u001b[0;34m[\u001b[0m\u001b[0;36m0\u001b[0m\u001b[0;34m]\u001b[0m\u001b[0;34m,\u001b[0m \u001b[0mpt2\u001b[0m\u001b[0;34m[\u001b[0m\u001b[0;36m1\u001b[0m\u001b[0;34m]\u001b[0m\u001b[0;34m)\u001b[0m\u001b[0;34m]\u001b[0m\u001b[0;34m\u001b[0m\u001b[0m\n\u001b[1;32m     28\u001b[0m         \u001b[0mx_coords\u001b[0m\u001b[0;34m,\u001b[0m \u001b[0my_coords\u001b[0m \u001b[0;34m=\u001b[0m \u001b[0mzip\u001b[0m\u001b[0;34m(\u001b[0m\u001b[0;34m*\u001b[0m\u001b[0mpoints\u001b[0m\u001b[0;34m)\u001b[0m\u001b[0;34m\u001b[0m\u001b[0m\n\u001b[0;32m---> 29\u001b[0;31m         \u001b[0mA\u001b[0m \u001b[0;34m=\u001b[0m \u001b[0mnp\u001b[0m\u001b[0;34m.\u001b[0m\u001b[0mvstack\u001b[0m\u001b[0;34m(\u001b[0m\u001b[0;34m[\u001b[0m\u001b[0mx_coords\u001b[0m \u001b[0;34m,\u001b[0m\u001b[0mones\u001b[0m\u001b[0;34m(\u001b[0m\u001b[0mlen\u001b[0m\u001b[0;34m(\u001b[0m\u001b[0mx_coords\u001b[0m\u001b[0;34m)\u001b[0m\u001b[0;34m)\u001b[0m\u001b[0;34m]\u001b[0m\u001b[0;34m)\u001b[0m\u001b[0;34m.\u001b[0m\u001b[0mT\u001b[0m\u001b[0;34m\u001b[0m\u001b[0m\n\u001b[0m\u001b[1;32m     30\u001b[0m         \u001b[0mm\u001b[0m\u001b[0;34m,\u001b[0m \u001b[0mc\u001b[0m \u001b[0;34m=\u001b[0m \u001b[0mnp\u001b[0m\u001b[0;34m.\u001b[0m\u001b[0mlinalg\u001b[0m\u001b[0;34m.\u001b[0m\u001b[0mlstsq\u001b[0m\u001b[0;34m(\u001b[0m\u001b[0mA\u001b[0m\u001b[0;34m,\u001b[0m \u001b[0my_coords\u001b[0m\u001b[0;34m)\u001b[0m\u001b[0;34m[\u001b[0m\u001b[0;36m0\u001b[0m\u001b[0;34m]\u001b[0m\u001b[0;34m\u001b[0m\u001b[0m\n\u001b[1;32m     31\u001b[0m         \u001b[0mpixel_lines\u001b[0m\u001b[0;34m.\u001b[0m\u001b[0mappend\u001b[0m\u001b[0;34m(\u001b[0m\u001b[0;34m[\u001b[0m\u001b[0;34m-\u001b[0m\u001b[0mm\u001b[0m\u001b[0;34m,\u001b[0m \u001b[0;36m1\u001b[0m\u001b[0;34m,\u001b[0m \u001b[0mc\u001b[0m\u001b[0;34m]\u001b[0m\u001b[0;34m)\u001b[0m\u001b[0;34m\u001b[0m\u001b[0m\n",
      "\u001b[0;31mNameError\u001b[0m: global name 'ones' is not defined"
     ]
    }
   ],
   "source": [
    "im = np.asarray(Image.open('CSL.jpg'))\n",
    "\n",
    "# Part 1\n",
    "# Get vanishing points for each of the directions\n",
    "num_vpts = 3\n",
    "vpts = np.zeros((3, num_vpts))\n",
    "for i in range(num_vpts):\n",
    "    print('Getting vanishing point %d' % i)\n",
    "    # Get at least three lines from user input\n",
    "    n, lines, centers = get_input_lines(im)\n",
    "    # <YOUR IMPLEMENTATION> Solve for vanishing point\n",
    "    vpts[:, i] = get_vanishing_point(n, lines, centers)\n",
    "    # Plot the lines and the vanishing point\n",
    "    plot_lines_and_vp(im, lines, vpts[:, i])\n",
    "\n",
    "# <YOUR IMPLEMENTATION> Get the ground horizon line\n",
    "horizon_line = get_horizon_line()\n",
    "# <YOUR IMPLEMENTATION> Plot the ground horizon line\n",
    "plot_horizon_line()\n",
    "\n",
    "# Part 2\n",
    "# <YOUR IMPLEMENTATION> Solve for the camera parameters (f, u, v)\n",
    "f, u, v = get_camera_parameters()\n",
    "\n",
    "# Part 3\n",
    "# <YOUR IMPLEMENTATION> Solve for the rotation matrix\n",
    "R = get_rotation_matrix()\n",
    "\n",
    "# Part 4\n",
    "# Record image coordinates for each object and store in map\n",
    "objects = ('person', 'CSL building', 'the spike statue', 'the lamp posts')\n",
    "coords = dict()\n",
    "for obj in objects:\n",
    "    coords[obj] = get_top_and_bottom_coordinates(im, obj)\n",
    "\n",
    "# <YOUR IMPLEMENTATION> Estimate heights\n",
    "for obj in objects[1:]:\n",
    "    print('Estimating height of %s' % obj)\n",
    "    height = estimate_height()\n"
   ]
  }
 ],
 "metadata": {
  "kernelspec": {
   "display_name": "Python 2",
   "language": "python",
   "name": "python2"
  },
  "language_info": {
   "codemirror_mode": {
    "name": "ipython",
    "version": 2
   },
   "file_extension": ".py",
   "mimetype": "text/x-python",
   "name": "python",
   "nbconvert_exporter": "python",
   "pygments_lexer": "ipython2",
   "version": "2.7.14"
  }
 },
 "nbformat": 4,
 "nbformat_minor": 2
}
